{
 "cells": [
  {
   "cell_type": "markdown",
   "metadata": {},
   "source": [
    "# Initialization"
   ]
  },
  {
   "cell_type": "markdown",
   "metadata": {},
   "source": [
    "## Importing necessary packages"
   ]
  },
  {
   "cell_type": "code",
   "execution_count": 1,
   "metadata": {},
   "outputs": [],
   "source": [
    "import os\n",
    "import datetime\n",
    "import random\n",
    "import pandas as pd\n",
    "import numpy as np\n",
    "import PIL.Image as Image\n",
    "import torch\n",
    "import torch.nn as nn\n",
    "import torch.utils.data as tdata\n",
    "import torchvision.transforms as transforms\n",
    "import torchvision.models as models\n",
    "import lightning as L\n",
    "from sklearn.metrics import cohen_kappa_score\n",
    "\n",
    "import yaml\n",
    "\n",
    "from models.enet_models import ENetModel\n",
    "from hyperparameters import HyperParameters\n",
    "from lightning_module import LightningModel\n",
    "from data_module import PandaDataModule\n",
    "\n",
    "from typing import List, Tuple, Dict"
   ]
  },
  {
   "cell_type": "markdown",
   "metadata": {},
   "source": [
    "## Parameters"
   ]
  },
  {
   "cell_type": "code",
   "execution_count": null,
   "metadata": {},
   "outputs": [],
   "source": [
    "NUM_WORKERS = 4"
   ]
  },
  {
   "cell_type": "markdown",
   "metadata": {},
   "source": [
    "## Input Data Source"
   ]
  },
  {
   "cell_type": "code",
   "execution_count": 19,
   "metadata": {},
   "outputs": [],
   "source": [
    "TRAINING_DATA_FOLDER: str = 'train-closetiled-prostate-36x256x256'\n",
    "TESTING_DATA_FOLDER: str = 'test-closetiled-prostate-36x256x256'\n",
    "DATASET_FOLDER_PATH: str = os.path.join(os.path.abspath('..'), 'dataset')\n",
    "TESTING_DATA_CSV_PATH: str = os.path.join(DATASET_FOLDER_PATH, TESTING_DATA_FOLDER, 'test.csv')"
   ]
  },
  {
   "cell_type": "markdown",
   "metadata": {},
   "source": [
    "# Trained Model checkpoint\n",
    "\n",
    "Setting the file paths for the trained model checkpoint and the hyperparameters `.yaml` file"
   ]
  },
  {
   "cell_type": "code",
   "execution_count": 11,
   "metadata": {},
   "outputs": [],
   "source": [
    "chkpt_file_path: str = os.path.join(os.path.abspath('..'),\n",
    "                                    'logs\\\\resnet50-20240423-000603\\\\fold_2\\\\epoch=26-kappa=0.7400.ckpt')\n",
    "hparams_file_path: str = os.path.join(os.path.abspath('..'),\n",
    "                                      'logs\\\\resnext50_semi-20240421-102016\\\\fold_1\\\\hparams.yaml')\n",
    "\n",
    "# Loading the saved HyperParameters `.yaml` file\n",
    "dict_h_params: Dict[str, any] = {}\n",
    "with open(hparams_file_path, 'r') as stream:\n",
    "    dict_yaml = yaml.safe_load(stream)\n",
    "    dict_h_params = dict_yaml\n",
    "\n",
    "# Instantiating a HyperParameters object\n",
    "h_params = HyperParameters.load_from_dict(dict_h=dict_h_params)"
   ]
  },
  {
   "cell_type": "markdown",
   "metadata": {},
   "source": [
    "# EfficientNet Model"
   ]
  },
  {
   "cell_type": "code",
   "execution_count": null,
   "metadata": {},
   "outputs": [],
   "source": [
    "model = ENetModel(c_out=h_params.c_out,\n",
    "                  backbone=h_params.backbone)\n",
    "\n",
    "print(model.summary())"
   ]
  },
  {
   "cell_type": "markdown",
   "metadata": {},
   "source": [
    "# Lightning Model"
   ]
  },
  {
   "cell_type": "code",
   "execution_count": null,
   "metadata": {},
   "outputs": [],
   "source": [
    "lt_model = LightningModel.load_from_checkpoint(model=model,\n",
    "                                               h_params=dict_h_params,\n",
    "                                               checkpoint_path=chkpt_file_path,\n",
    "                                               hparams_file=hparams_file_path,\n",
    "                                               map_location=None)"
   ]
  },
  {
   "cell_type": "markdown",
   "metadata": {},
   "source": [
    "# Data Module"
   ]
  },
  {
   "cell_type": "code",
   "execution_count": null,
   "metadata": {},
   "outputs": [],
   "source": [
    "data_module: L.LightningDataModule = PandaDataModule(train_folder_path=os.path.join(DATASET_FOLDER_PATH, TRAINING_DATA_FOLDER),\n",
    "                                                     test_folder_path=os.path.join(DATASET_FOLDER_PATH, TESTING_DATA_FOLDER),\n",
    "                                                     # list_train_idx=list_train_idx,\n",
    "                                                     # list_val_idx=list_val_idx,\n",
    "                                                     num_workers=NUM_WORKERS,\n",
    "                                                     h_params=h_params)"
   ]
  },
  {
   "cell_type": "markdown",
   "metadata": {},
   "source": [
    "# Model Predictions"
   ]
  },
  {
   "cell_type": "markdown",
   "metadata": {},
   "source": [
    "## Predictions on the complete Hold-out Test set"
   ]
  },
  {
   "cell_type": "code",
   "execution_count": null,
   "metadata": {},
   "outputs": [],
   "source": [
    "# Initializing the Lighning Trainer for running Predictions\n",
    "trainer: L.Trainer = L.Trainer(max_epochs=h_params.num_epochs,\n",
    "                               accelerator=\"gpu\" if torch.cuda.is_available() else \"cpu\",\n",
    "                               devices=1,\n",
    "                               num_nodes=1,\n",
    "                               accumulate_grad_batches=1)\n",
    "\n",
    "# Testing the model\n",
    "testing_results = trainer.predict(model=lt_model,\n",
    "                                  datamodule=data_module)"
   ]
  },
  {
   "cell_type": "markdown",
   "metadata": {},
   "source": [
    "## Prediction on a single image"
   ]
  },
  {
   "cell_type": "code",
   "execution_count": 27,
   "metadata": {},
   "outputs": [
    {
     "data": {
      "text/html": [
       "<div>\n",
       "<style scoped>\n",
       "    .dataframe tbody tr th:only-of-type {\n",
       "        vertical-align: middle;\n",
       "    }\n",
       "\n",
       "    .dataframe tbody tr th {\n",
       "        vertical-align: top;\n",
       "    }\n",
       "\n",
       "    .dataframe thead th {\n",
       "        text-align: right;\n",
       "    }\n",
       "</style>\n",
       "<table border=\"1\" class=\"dataframe\">\n",
       "  <thead>\n",
       "    <tr style=\"text-align: right;\">\n",
       "      <th></th>\n",
       "      <th>image_id</th>\n",
       "      <th>data_provider</th>\n",
       "      <th>isup_grade</th>\n",
       "      <th>gleason_score</th>\n",
       "    </tr>\n",
       "  </thead>\n",
       "  <tbody>\n",
       "    <tr>\n",
       "      <th>0</th>\n",
       "      <td>332db6f0f6f290e521b714b4d209ff25</td>\n",
       "      <td>karolinska</td>\n",
       "      <td>2</td>\n",
       "      <td>3+4</td>\n",
       "    </tr>\n",
       "    <tr>\n",
       "      <th>1</th>\n",
       "      <td>9a3ad5844e796a97e725de8fa7518144</td>\n",
       "      <td>radboud</td>\n",
       "      <td>2</td>\n",
       "      <td>3+4</td>\n",
       "    </tr>\n",
       "    <tr>\n",
       "      <th>2</th>\n",
       "      <td>be9a4ad52349a7a82f4e8ac2154e93df</td>\n",
       "      <td>karolinska</td>\n",
       "      <td>3</td>\n",
       "      <td>4+3</td>\n",
       "    </tr>\n",
       "    <tr>\n",
       "      <th>3</th>\n",
       "      <td>345f3e86a3dcc26dce73ceeacc5a4a0a</td>\n",
       "      <td>radboud</td>\n",
       "      <td>3</td>\n",
       "      <td>4+3</td>\n",
       "    </tr>\n",
       "    <tr>\n",
       "      <th>4</th>\n",
       "      <td>6de4998fbdf6ebd012fd6b727890e582</td>\n",
       "      <td>karolinska</td>\n",
       "      <td>1</td>\n",
       "      <td>3+3</td>\n",
       "    </tr>\n",
       "    <tr>\n",
       "      <th>...</th>\n",
       "      <td>...</td>\n",
       "      <td>...</td>\n",
       "      <td>...</td>\n",
       "      <td>...</td>\n",
       "    </tr>\n",
       "    <tr>\n",
       "      <th>990</th>\n",
       "      <td>e9c567814f3d582607f9eff2a3b7668c</td>\n",
       "      <td>karolinska</td>\n",
       "      <td>0</td>\n",
       "      <td>0+0</td>\n",
       "    </tr>\n",
       "    <tr>\n",
       "      <th>991</th>\n",
       "      <td>a4119823dddda4b7cd9be59893173b0a</td>\n",
       "      <td>karolinska</td>\n",
       "      <td>0</td>\n",
       "      <td>0+0</td>\n",
       "    </tr>\n",
       "    <tr>\n",
       "      <th>992</th>\n",
       "      <td>9b16f18bbaecf31ae19380009a076862</td>\n",
       "      <td>radboud</td>\n",
       "      <td>5</td>\n",
       "      <td>4+5</td>\n",
       "    </tr>\n",
       "    <tr>\n",
       "      <th>993</th>\n",
       "      <td>af48aa2477b1f92d2b98a6eb6993873f</td>\n",
       "      <td>karolinska</td>\n",
       "      <td>1</td>\n",
       "      <td>3+3</td>\n",
       "    </tr>\n",
       "    <tr>\n",
       "      <th>994</th>\n",
       "      <td>a733239073e6baaceea3825537584b23</td>\n",
       "      <td>karolinska</td>\n",
       "      <td>1</td>\n",
       "      <td>3+3</td>\n",
       "    </tr>\n",
       "  </tbody>\n",
       "</table>\n",
       "<p>995 rows × 4 columns</p>\n",
       "</div>"
      ],
      "text/plain": [
       "                             image_id data_provider  isup_grade gleason_score\n",
       "0    332db6f0f6f290e521b714b4d209ff25    karolinska           2           3+4\n",
       "1    9a3ad5844e796a97e725de8fa7518144       radboud           2           3+4\n",
       "2    be9a4ad52349a7a82f4e8ac2154e93df    karolinska           3           4+3\n",
       "3    345f3e86a3dcc26dce73ceeacc5a4a0a       radboud           3           4+3\n",
       "4    6de4998fbdf6ebd012fd6b727890e582    karolinska           1           3+3\n",
       "..                                ...           ...         ...           ...\n",
       "990  e9c567814f3d582607f9eff2a3b7668c    karolinska           0           0+0\n",
       "991  a4119823dddda4b7cd9be59893173b0a    karolinska           0           0+0\n",
       "992  9b16f18bbaecf31ae19380009a076862       radboud           5           4+5\n",
       "993  af48aa2477b1f92d2b98a6eb6993873f    karolinska           1           3+3\n",
       "994  a733239073e6baaceea3825537584b23    karolinska           1           3+3\n",
       "\n",
       "[995 rows x 4 columns]"
      ]
     },
     "execution_count": 27,
     "metadata": {},
     "output_type": "execute_result"
    }
   ],
   "source": [
    "# Load the `test.csv` file from the Hold-out test set\n",
    "df_testing_data : pd.DataFrame = pd.read_csv(TESTING_DATA_CSV_PATH)\n",
    "\n",
    "df_testing_data"
   ]
  },
  {
   "cell_type": "code",
   "execution_count": 42,
   "metadata": {},
   "outputs": [
    {
     "data": {
      "text/plain": [
       "'karolinska'"
      ]
     },
     "execution_count": 42,
     "metadata": {},
     "output_type": "execute_result"
    }
   ],
   "source": [
    "random_idx: int = random.randint(0, len(df_testing_data))\n",
    "df_row: pd.Series = df_testing_data.iloc[random_idx]\n",
    "\n",
    "df_row.data_provider\n",
    "\n",
    "# Displaying the original testing image (.tiff)\n",
    "\n",
    "\n",
    "# Creating image tiles from the input testing image\n",
    "\n",
    "\n",
    "# Create a big image from the tiles\n",
    "\n",
    "\n",
    "# Take the model's output for the input image\n",
    "\n",
    "\n",
    "# Calculate scores comparing the predicted and target outputs\n",
    "\n"
   ]
  }
 ],
 "metadata": {
  "kernelspec": {
   "display_name": "data_env",
   "language": "python",
   "name": "python3"
  },
  "language_info": {
   "codemirror_mode": {
    "name": "ipython",
    "version": 3
   },
   "file_extension": ".py",
   "mimetype": "text/x-python",
   "name": "python",
   "nbconvert_exporter": "python",
   "pygments_lexer": "ipython3",
   "version": "3.12.1"
  }
 },
 "nbformat": 4,
 "nbformat_minor": 2
}
